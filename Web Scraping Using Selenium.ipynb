{
 "cells": [
  {
   "cell_type": "code",
   "execution_count": 1,
   "id": "a0680aad",
   "metadata": {},
   "outputs": [],
   "source": [
    "from selenium import webdriver\n",
    "from selenium.webdriver.common.by import By \n",
    "from webdriver_manager.chrome import ChromeDriverManager\n",
    "import pandas as pd"
   ]
  },
  {
   "cell_type": "code",
   "execution_count": 2,
   "id": "7b11ee4c",
   "metadata": {},
   "outputs": [
    {
     "data": {
      "text/plain": [
       "'4.3.0'"
      ]
     },
     "execution_count": 2,
     "metadata": {},
     "output_type": "execute_result"
    }
   ],
   "source": [
    "import selenium\n",
    "selenium.__version__"
   ]
  },
  {
   "cell_type": "code",
   "execution_count": 3,
   "id": "3f218209",
   "metadata": {},
   "outputs": [
    {
     "name": "stderr",
     "output_type": "stream",
     "text": [
      "C:\\Users\\DEWIM~1\\AppData\\Local\\Temp/ipykernel_73192/1897976321.py:2: DeprecationWarning: executable_path has been deprecated, please pass in a Service object\n",
      "  driver = webdriver.Chrome(ChromeDriverManager().install())\n"
     ]
    }
   ],
   "source": [
    "url = 'https://members-fmff.net/'\n",
    "driver = webdriver.Chrome(ChromeDriverManager().install())\n",
    "driver.get(url)"
   ]
  },
  {
   "cell_type": "code",
   "execution_count": 4,
   "id": "cf63f1ec",
   "metadata": {},
   "outputs": [],
   "source": [
    "# Set the initial page number\n",
    "page = 1\n",
    "\n",
    "# Set the initial URL\n",
    "url = \"https://members-fmff.net?page=\" + str(page)\n",
    "\n",
    "# Initialize an empty list to store the company data\n",
    "companies = []\n",
    "\n",
    "# Set the maximum number of pages to scrape\n",
    "max_pages = 124\n",
    "\n",
    "# Iterate over the pages while the current page is less than the maximum number of pages\n",
    "while page <= max_pages:\n",
    "\n",
    "    # Open the URL in the web driver\n",
    "    driver.get(url)\n",
    "\n",
    "    # Find all the elements that contain company data\n",
    "    elements = driver.find_elements(By.XPATH, '//*[@id=\"app-layout\"]/div[3]/div[2]/div[*]/div[1]')\n",
    "    elements2 = driver.find_elements(By.XPATH, '//*[@id=\"app-layout\"]/div[3]/div[2]/div[*]/div[2]')\n",
    "\n",
    "    # Iterate over the elements\n",
    "    for element1, element2 in zip(elements, elements2):\n",
    "        # Find the title, first paragraph, and third paragraph for each element\n",
    "        company_name = element1.find_element(By.XPATH, 'div').text\n",
    "        address = element1.find_element(By.XPATH, 'p[1]').text\n",
    "        tel = element1.find_element(By.XPATH, 'p[2]').text\n",
    "        email = element1.find_element(By.XPATH, 'p[3]').text\n",
    "        contact_name = element2.find_element(By.XPATH, 'p[1]').text\n",
    "        contact_email = element2.find_element(By.XPATH, 'p[2]').text\n",
    "        contact_tel = element2.find_element(By.XPATH, 'p[3]').text\n",
    "\n",
    "        # Append the data for the current element to the list of companies\n",
    "        companies.append([company_name, address, tel, email, contact_name, contact_email, contact_tel])\n",
    "\n",
    "    # Increment the page number\n",
    "    page += 1\n",
    "\n",
    "    # Update the URL to the next page\n",
    "    url = \"https://members-fmff.net?page=\" + str(page)\n",
    "\n",
    "# Convert the list of companies to a Pandas DataFrame\n",
    "df3 = pd.DataFrame(companies, columns=['company_name', 'address', 'tel', 'email', 'contact_name', 'contact_email', 'contact_tel'])\n",
    "df3.to_excel('fmff_members2.xlsx')"
   ]
  }
 ],
 "metadata": {
  "kernelspec": {
   "display_name": "Python 3 (ipykernel)",
   "language": "python",
   "name": "python3"
  },
  "language_info": {
   "codemirror_mode": {
    "name": "ipython",
    "version": 3
   },
   "file_extension": ".py",
   "mimetype": "text/x-python",
   "name": "python",
   "nbconvert_exporter": "python",
   "pygments_lexer": "ipython3",
   "version": "3.9.7"
  },
  "varInspector": {
   "cols": {
    "lenName": 16,
    "lenType": 16,
    "lenVar": 40
   },
   "kernels_config": {
    "python": {
     "delete_cmd_postfix": "",
     "delete_cmd_prefix": "del ",
     "library": "var_list.py",
     "varRefreshCmd": "print(var_dic_list())"
    },
    "r": {
     "delete_cmd_postfix": ") ",
     "delete_cmd_prefix": "rm(",
     "library": "var_list.r",
     "varRefreshCmd": "cat(var_dic_list()) "
    }
   },
   "types_to_exclude": [
    "module",
    "function",
    "builtin_function_or_method",
    "instance",
    "_Feature"
   ],
   "window_display": false
  },
  "vscode": {
   "interpreter": {
    "hash": "b74bccc3e68d887b6d635e890494dd37c1e35f204f0e1ca3c5b9ea2fa103e1f9"
   }
  }
 },
 "nbformat": 4,
 "nbformat_minor": 5
}
